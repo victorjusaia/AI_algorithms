{
  "nbformat": 4,
  "nbformat_minor": 0,
  "metadata": {
    "colab": {
      "provenance": []
    },
    "kernelspec": {
      "name": "python3",
      "display_name": "Python 3"
    },
    "language_info": {
      "name": "python"
    }
  },
  "cells": [
    {
      "cell_type": "markdown",
      "source": [
        "implementing Decission Tree algorithm with the gini metric"
      ],
      "metadata": {
        "id": "Jps7pjNSc6_U"
      }
    },
    {
      "cell_type": "code",
      "execution_count": 4,
      "metadata": {
        "id": "afDxoZhCcRxW"
      },
      "outputs": [],
      "source": [
        "import numpy as np\n",
        "from collections import Counter"
      ]
    },
    {
      "cell_type": "code",
      "source": [
        "class DecisionTree:\n",
        "    def __init__(self, max_depth=None):\n",
        "        self.max_depth = max_depth\n",
        "        self.tree = None\n",
        "\n",
        "    def fit(self, X, y):\n",
        "        \"\"\"Builds the decision tree from the training data.\"\"\"\n",
        "        self.tree = self._grow_tree(X, y, depth=0)\n",
        "\n",
        "    def predict(self, X):\n",
        "        \"\"\"Predicts class labels for input samples.\"\"\"\n",
        "        return np.array([self._traverse_tree(x, self.tree) for x in X])\n",
        "\n",
        "    def _gini(self, y):\n",
        "        \"\"\"Computes the Gini impurity of a set of labels.\"\"\"\n",
        "        counts = np.bincount(y)\n",
        "        probabilities = counts / len(y)\n",
        "        return 1 - np.sum(probabilities ** 2)\n",
        "\n",
        "    def _best_split(self, X, y):\n",
        "        \"\"\"Finds the best feature and threshold to split the data.\"\"\"\n",
        "        best_gini = float('inf')\n",
        "        best_split = None\n",
        "        n_features = X.shape[1]\n",
        "\n",
        "        for feature in range(n_features):\n",
        "            thresholds = np.unique(X[:, feature])\n",
        "            for threshold in thresholds:\n",
        "                left_mask = X[:, feature] <= threshold\n",
        "                right_mask = ~left_mask\n",
        "\n",
        "                if np.sum(left_mask) == 0 or np.sum(right_mask) == 0:\n",
        "                    continue\n",
        "\n",
        "                # Compute weighted Gini impurity for the split\n",
        "                gini_left = self._gini(y[left_mask])\n",
        "                gini_right = self._gini(y[right_mask])\n",
        "                gini = (gini_left * np.sum(left_mask) + gini_right * np.sum(right_mask)) / len(y)\n",
        "\n",
        "                if gini < best_gini:\n",
        "                    best_gini = gini\n",
        "                    best_split = (feature, threshold)\n",
        "\n",
        "        return best_split\n",
        "\n",
        "    def _grow_tree(self, X, y, depth):\n",
        "        \"\"\"Recursively grows the decision tree.\"\"\"\n",
        "        if len(set(y)) == 1 or (self.max_depth is not None and depth >= self.max_depth):\n",
        "            return Counter(y).most_common(1)[0][0]\n",
        "\n",
        "        split = self._best_split(X, y)\n",
        "        if split is None:\n",
        "            return Counter(y).most_common(1)[0][0]\n",
        "\n",
        "        feature, threshold = split\n",
        "        left_mask = X[:, feature] <= threshold\n",
        "        right_mask = ~left_mask\n",
        "\n",
        "        # Recursively grow left and right subtrees\n",
        "        left_subtree = self._grow_tree(X[left_mask], y[left_mask], depth + 1)\n",
        "        right_subtree = self._grow_tree(X[right_mask], y[right_mask], depth + 1)\n",
        "\n",
        "        return (feature, threshold, left_subtree, right_subtree)\n",
        "\n",
        "    def _traverse_tree(self, x, node):\n",
        "        \"\"\"Traverses the tree to make a prediction for a single sample.\"\"\"\n",
        "        if not isinstance(node, tuple):\n",
        "            return node\n",
        "        feature, threshold, left, right = node\n",
        "        return self._traverse_tree(x, left if x[feature] <= threshold else right)"
      ],
      "metadata": {
        "id": "RmjnQgT6cxWl"
      },
      "execution_count": 5,
      "outputs": []
    },
    {
      "cell_type": "markdown",
      "source": [
        "Let´s test the algorithm"
      ],
      "metadata": {
        "id": "_bfVeX4idYvY"
      }
    },
    {
      "cell_type": "code",
      "source": [
        "from sklearn.metrics import accuracy_score, precision_score, recall_score, f1_score"
      ],
      "metadata": {
        "id": "xVXIQ7NzdOUu"
      },
      "execution_count": 6,
      "outputs": []
    },
    {
      "cell_type": "code",
      "source": [
        "# Ejemplo de uso\n",
        "if __name__ == \"__main__\":\n",
        "    # Sample dataset\n",
        "    X = np.array([[2, 3], [1, 1], [3, 2], [5, 3], [6, 2], [7, 3], [4, 2], [8, 3]])\n",
        "    y = np.array([0, 0, 0, 1, 1, 1, 1, 0])\n",
        "\n",
        "    tree = DecisionTree(max_depth=3)\n",
        "    tree.fit(X, y)\n",
        "    predictions = tree.predict(X)\n",
        "\n",
        "    # Compute evaluation metrics\n",
        "    accuracy = accuracy_score(y, predictions)\n",
        "    precision = precision_score(y, predictions)\n",
        "    recall = recall_score(y, predictions)\n",
        "    f1 = f1_score(y, predictions)\n",
        "\n",
        "    print(\"Predicciones:\", predictions)\n",
        "    print(f\"Accuracy: {accuracy:.2f}\")\n",
        "    print(f\"Precision: {precision:.2f}\")\n",
        "    print(f\"Recall: {recall:.2f}\")\n",
        "    print(f\"F1 Score: {f1:.2f}\")"
      ],
      "metadata": {
        "colab": {
          "base_uri": "https://localhost:8080/"
        },
        "id": "74gIqiODc1PH",
        "outputId": "a9e48c17-c84c-4804-df20-264392e2940d"
      },
      "execution_count": 7,
      "outputs": [
        {
          "output_type": "stream",
          "name": "stdout",
          "text": [
            "Predicciones: [0 0 0 1 1 1 1 0]\n",
            "Accuracy: 1.00\n",
            "Precision: 1.00\n",
            "Recall: 1.00\n",
            "F1 Score: 1.00\n"
          ]
        }
      ]
    }
  ]
}