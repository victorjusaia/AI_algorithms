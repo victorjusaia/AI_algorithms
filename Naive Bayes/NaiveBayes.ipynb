{
  "nbformat": 4,
  "nbformat_minor": 0,
  "metadata": {
    "colab": {
      "provenance": []
    },
    "kernelspec": {
      "name": "python3",
      "display_name": "Python 3"
    },
    "language_info": {
      "name": "python"
    }
  },
  "cells": [
    {
      "cell_type": "code",
      "execution_count": 1,
      "metadata": {
        "id": "xn5MUu5VmTgu"
      },
      "outputs": [],
      "source": [
        "import numpy as np"
      ]
    },
    {
      "cell_type": "code",
      "source": [
        "import numpy as np\n",
        "\n",
        "class NaiveBayes:\n",
        "    def __init__(self):\n",
        "        self.classes = None  # Unique class labels\n",
        "        self.priors = {}  # Prior probabilities P(class)\n",
        "        self.means = {}  # Mean of features for each class\n",
        "        self.variances = {}  # Variance of features for each class\n",
        "\n",
        "    def fit(self, X, y):\n",
        "\n",
        "        #Train the Naive Bayes model by calculating prior probabilities,\n",
        "        #mean, and variance for each feature per class.\n",
        "\n",
        "        self.classes = np.unique(y)  # Get unique class labels\n",
        "        n_features = X.shape[1]  # Number of features in dataset\n",
        "\n",
        "        for c in self.classes:\n",
        "            X_c = X[y == c]  # Select all samples belonging to class c\n",
        "            self.priors[c] = len(X_c) / len(X)  # Compute P(class)\n",
        "            self.means[c] = np.mean(X_c, axis=0)  # Compute mean per feature\n",
        "            self.variances[c] = np.var(X_c, axis=0)  # Compute variance per feature\n",
        "\n",
        "    def _gaussian_pdf(self, x, mean, var):\n",
        "\n",
        "        #Compute the Gaussian probability density function.\n",
        "\n",
        "        eps = 1e-9  # Small value to avoid division by zero\n",
        "        coeff = 1.0 / np.sqrt(2.0 * np.pi * (var + eps))\n",
        "        exponent = np.exp(- (x - mean) ** 2 / (2 * (var + eps)))\n",
        "        return coeff * exponent\n",
        "\n",
        "    def predict(self, X):\n",
        "\n",
        "        #Predict class labels for the input samples.\n",
        "\n",
        "        predictions = []\n",
        "\n",
        "        for x in X:\n",
        "            posteriors = {}\n",
        "\n",
        "            for c in self.classes:\n",
        "                prior = np.log(self.priors[c])  # Use log to prevent underflow\n",
        "                likelihood = np.sum(np.log(self._gaussian_pdf(x, self.means[c], self.variances[c])))\n",
        "                posteriors[c] = prior + likelihood  # Compute posterior probability\n",
        "\n",
        "            predictions.append(max(posteriors, key=posteriors.get))  # Choose class with highest posterior\n",
        "\n",
        "        return np.array(predictions)\n",
        "\n",
        "    def evaluate(self, y_true, y_pred):\n",
        "\n",
        "        #Compute accuracy, precision, recall, and F1-score.\n",
        "\n",
        "        accuracy = np.mean(y_true == y_pred)\n",
        "        tp = np.sum((y_true == 1) & (y_pred == 1))\n",
        "        tn = np.sum((y_true == 0) & (y_pred == 0))\n",
        "        fp = np.sum((y_true == 0) & (y_pred == 1))\n",
        "        fn = np.sum((y_true == 1) & (y_pred == 0))\n",
        "\n",
        "        precision = tp / (tp + fp + 1e-9)\n",
        "        recall = tp / (tp + fn + 1e-9)\n",
        "        f1_score = 2 * (precision * recall) / (precision + recall + 1e-9)\n",
        "\n",
        "        return {\"accuracy\": accuracy, \"precision\": precision, \"recall\": recall, \"f1_score\": f1_score}\n"
      ],
      "metadata": {
        "id": "G-6jVkJUmbMx"
      },
      "execution_count": 2,
      "outputs": []
    },
    {
      "cell_type": "code",
      "source": [
        "# Example usage\n",
        "if __name__ == \"__main__\":\n",
        "    # Generate synthetic dataset\n",
        "    np.random.seed(42)\n",
        "    X1 = np.random.randn(50, 2) + np.array([2, 2])\n",
        "    X2 = np.random.randn(50, 2) + np.array([-2, -2])\n",
        "    X = np.vstack((X1, X2))\n",
        "    y = np.hstack((np.zeros(50), np.ones(50)))  # Two classes: 0 and 1\n",
        "\n",
        "    model = NaiveBayes()\n",
        "    model.fit(X, y)\n",
        "    predictions = model.predict(X)\n",
        "\n",
        "    metrics = model.evaluate(y, predictions)\n",
        "\n",
        "    print(\"Predictions:\", predictions)\n",
        "    print(\"Metrics:\", metrics)"
      ],
      "metadata": {
        "colab": {
          "base_uri": "https://localhost:8080/"
        },
        "id": "8KAhAc3Cm2N8",
        "outputId": "0fa87bcb-8f21-4a10-8e39-fcbfd38ae93c"
      },
      "execution_count": 3,
      "outputs": [
        {
          "output_type": "stream",
          "name": "stdout",
          "text": [
            "Predictions: [0. 0. 0. 0. 0. 0. 0. 0. 0. 0. 0. 0. 0. 0. 0. 0. 0. 0. 0. 0. 0. 0. 0. 0.\n",
            " 0. 0. 0. 0. 0. 0. 0. 0. 0. 0. 0. 0. 0. 0. 0. 0. 0. 0. 0. 0. 0. 0. 0. 0.\n",
            " 0. 0. 1. 1. 1. 1. 1. 1. 1. 1. 1. 1. 1. 1. 1. 1. 1. 1. 1. 1. 1. 1. 1. 1.\n",
            " 1. 1. 1. 1. 1. 1. 1. 1. 1. 1. 1. 1. 1. 1. 1. 1. 1. 1. 1. 1. 1. 1. 1. 1.\n",
            " 1. 1. 1. 1.]\n",
            "Metrics: {'accuracy': 1.0, 'precision': 0.9999999999800001, 'recall': 0.9999999999800001, 'f1_score': 0.9999999994800002}\n"
          ]
        }
      ]
    }
  ]
}